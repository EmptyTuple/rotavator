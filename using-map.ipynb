{
 "cells": [
  {
   "cell_type": "markdown",
   "metadata": {},
   "source": [
    "## Using map function and a bit more"
   ]
  },
  {
   "cell_type": "code",
   "execution_count": 3,
   "metadata": {},
   "outputs": [
    {
     "name": "stdout",
     "output_type": "stream",
     "text": [
      "(10, 13)\n"
     ]
    }
   ],
   "source": [
    "def addition(x, y, z):\n",
    "    return x + y + z\n",
    "\n",
    "map_obj1 = map(addition, [2, 3], [3, 4], [5, 6])\n",
    "print(tuple(map_obj1))\n"
   ]
  },
  {
   "cell_type": "code",
   "execution_count": 17,
   "metadata": {},
   "outputs": [
    {
     "name": "stdout",
     "output_type": "stream",
     "text": [
      "<map object at 0x1063dfd60>\n",
      "[(1, 'x'), (5, 'y')]\n",
      "{}\n"
     ]
    }
   ],
   "source": [
    "def get_tuple(x, y):\n",
    "    return x, y\n",
    "\n",
    "map_obj2 = map(get_tuple, [1, 5], ['x', 'y', 'z'])\n",
    "print(map_obj2) # >>> <map object at 0x1063de620>\n",
    "print(list(map_obj2))\n",
    "print(dict(map_obj2))"
   ]
  },
  {
   "cell_type": "code",
   "execution_count": 18,
   "metadata": {},
   "outputs": [
    {
     "name": "stdout",
     "output_type": "stream",
     "text": [
      "[1, 32, 729]\n"
     ]
    }
   ],
   "source": [
    "a = [1, 2, 3]\n",
    "b = [4, 5, 6, 7]\n",
    "\n",
    "res = list(map(pow, a, b))\n",
    "print(res)"
   ]
  },
  {
   "cell_type": "markdown",
   "metadata": {},
   "source": [
    "### Удаление пунктуации в тексте при помощи map()"
   ]
  },
  {
   "cell_type": "code",
   "execution_count": 34,
   "metadata": {},
   "outputs": [
    {
     "name": "stdout",
     "output_type": "stream",
     "text": [
      "С помощью цикла `for .. in:` программе необходимо хранить в памяти системы весь (список)!\n"
     ]
    }
   ],
   "source": [
    "import re\n",
    "\n",
    "def clean_it(text: str) -> str:\n",
    "    return re.sub(r\"[`!?.:;,'\\\"()-]\", \"\", word.strip())\n",
    "\n",
    "text1 = \"\"\"С помощью цикла `for .. in:` программе необходимо хранить в памяти системы весь (список)! \"\"\"\n",
    "word = text1.split()\n",
    "text = str(map(clean_it, word))\n",
    "text = ' '.join(word)\n",
    "print(text)"
   ]
  }
 ],
 "metadata": {
  "interpreter": {
   "hash": "aee8b7b246df8f9039afb4144a1f6fd8d2ca17a180786b69acc140d282b71a49"
  },
  "kernelspec": {
   "display_name": "Python 3.10.2 64-bit",
   "language": "python",
   "name": "python3"
  },
  "language_info": {
   "codemirror_mode": {
    "name": "ipython",
    "version": 3
   },
   "file_extension": ".py",
   "mimetype": "text/x-python",
   "name": "python",
   "nbconvert_exporter": "python",
   "pygments_lexer": "ipython3",
   "version": "3.10.2"
  },
  "orig_nbformat": 4
 },
 "nbformat": 4,
 "nbformat_minor": 2
}
