{
 "cells": [
  {
   "cell_type": "markdown",
   "metadata": {},
   "source": [
    "Словари в Python - неупорядоченные коллекции произвольных объектов с доступом по ключу. Их иногда ещё называют ассоциативными массивами или хеш-таблицами."
   ]
  },
  {
   "cell_type": "code",
   "execution_count": 9,
   "metadata": {},
   "outputs": [],
   "source": [
    "# Создание словарей\n",
    "dict_1 = {'a': 1, 'b': 2, 'c': 3}\n",
    "dict_2 = dict(a=1, b=2, c=3)\n",
    "dict_3 = dict.fromkeys(['a', 'b', 'c'], 100)\n",
    "# С помощью генератора словаря\n",
    "dict_4 = {a: a**2 for a in range(5)}\n",
    "# Присвоение по новому ключу расширяет словарь, присвоение по существующему ключу перезаписывает его:\n",
    "dict_1['d'] = 4\n",
    "dict_1['a'] = 100"
   ]
  },
  {
   "cell_type": "code",
   "execution_count": 26,
   "metadata": {},
   "outputs": [],
   "source": [
    "# Методы словарей.\n",
    "the_dict = {a: a+a for a in range(5)}\n",
    "the_dict1 = {a: a+a for a in range(5)}\n",
    "\n",
    "# dict.clear() - очищает словарь.\n",
    "the_dict.clear()\n",
    "# dict.copy() - возвращает копию словаря.\n",
    "a_dict = the_dict.copy()\n",
    "# dict.get(key[, default]) - возвращает значение ключа, если его нет, не бросает исключение, \n",
    "# а возвращает default (по умолчанию None)\n",
    "x = the_dict1.get(4)\n",
    "y = the_dict1.get(6, 1000)\n",
    "# dict.items() - возвращает пары (ключ, значение).\n",
    "the_dict1.items()\n",
    "# dict.keys() - возвращает ключи в словаре.\n",
    "the_dict1.keys()\n",
    "# dict.pop(key[, default]) - удаляет ключ и возвращает значение. Если ключа нет, \n",
    "# возвращает default (по умолчанию бросает исключение).\n",
    "c = the_dict1.pop(4)\n",
    "d = the_dict1.pop(7, 2000)\n"
   ]
  }
 ],
 "metadata": {
  "interpreter": {
   "hash": "aee8b7b246df8f9039afb4144a1f6fd8d2ca17a180786b69acc140d282b71a49"
  },
  "kernelspec": {
   "display_name": "Python 3.10.2 64-bit",
   "language": "python",
   "name": "python3"
  },
  "language_info": {
   "codemirror_mode": {
    "name": "ipython",
    "version": 3
   },
   "file_extension": ".py",
   "mimetype": "text/x-python",
   "name": "python",
   "nbconvert_exporter": "python",
   "pygments_lexer": "ipython3",
   "version": "3.10.2"
  },
  "orig_nbformat": 4
 },
 "nbformat": 4,
 "nbformat_minor": 2
}
