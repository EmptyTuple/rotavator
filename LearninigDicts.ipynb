{
 "cells": [
  {
   "cell_type": "markdown",
   "metadata": {},
   "source": [
    "Словари в Python - неупорядоченные коллекции произвольных объектов с доступом по ключу. Их иногда ещё называют ассоциативными массивами или хеш-таблицами."
   ]
  },
  {
   "cell_type": "code",
   "execution_count": 9,
   "metadata": {},
   "outputs": [],
   "source": [
    "# Создание словарей\n",
    "dict_1 = {'a': 1, 'b': 2, 'c': 3}\n",
    "dict_2 = dict(a=1, b=2, c=3)\n",
    "dict_3 = dict.fromkeys(['a', 'b', 'c'], 100)\n",
    "# С помощью генератора словаря\n",
    "dict_4 = {a: a**2 for a in range(5)}\n",
    "# Присвоение по новому ключу расширяет словарь, присвоение по существующему ключу перезаписывает его:\n",
    "dict_1['d'] = 4\n",
    "dict_1['a'] = 100"
   ]
  },
  {
   "cell_type": "code",
   "execution_count": 35,
   "metadata": {},
   "outputs": [],
   "source": [
    "# Методы словарей.\n",
    "the_dict = {a: a+a for a in range(5)}\n",
    "the_dict1 = {a: a+a for a in range(5)}\n",
    "\n",
    "# dict.clear() - очищает словарь.\n",
    "the_dict.clear()\n",
    "# dict.copy() - возвращает копию словаря.\n",
    "a_dict = the_dict.copy()\n",
    "# dict.get(key[, default]) - возвращает значение ключа, если его нет, не бросает исключение, \n",
    "# а возвращает default (по умолчанию None)\n",
    "x = the_dict1.get(4)\n",
    "y = the_dict1.get(6, 1000)\n",
    "# dict.items() - возвращает пары (ключ, значение).\n",
    "the_dict1.items()\n",
    "# dict.keys() - возвращает ключи в словаре.\n",
    "the_dict1.keys()\n",
    "# dict.pop(key[, default]) - удаляет ключ и возвращает значение. Если ключа нет, \n",
    "# возвращает default (по умолчанию бросает исключение).\n",
    "c = the_dict1.pop(4)\n",
    "d = the_dict1.pop(7, 2000)\n",
    "# dict.popitem() - удаляет и возвращает кортеж (ключ, значение). Пары возвращаются с конца словаря, \n",
    "# в порядке LIFO (последним пришёл - первым ушёл). \n",
    "# Если словарь пуст, бросает исключение KeyError.\n",
    "e = the_dict1.popitem()\n",
    "# dict.setdefault(key[, default]) - возвращает значение, соответствующее ключу, но если его нет, не бросает исключение, \n",
    "# а создает ключ со значением default (по умолчанию None).\n",
    "g = the_dict1.setdefault(2)\n",
    "f = the_dict1.setdefault(10, 3000)\n",
    "# dict.update([other]) - обновляет (изменяет!) словарь, добавляя пары (ключ, значение) из other. \n",
    "# принимает либо другой объект словаря, либо итерируемую последовательность пар ключ/значение \n",
    "# в виде кортежей или других итераций вида (key, value).\n",
    "# Существующие ключи перезаписываются. Возвращает None (не новый словарь!).\n",
    "adict = {1 : 10, 2 : 20, 3 : 30}\n",
    "bdict = {4 : 40, 5 : 50}\n",
    "adict.update(bdict)\n",
    "adict.update([(6, 60), (7, 70)])\n",
    "# новый синтаксис в Python 3.9!\n",
    "edict = {}\n",
    "gdict = {'a' : 'zzz'}\n",
    "edict |= gdict\n",
    "# dict.values() - возвращает значения в словаре.\n",
    "fdict = {'a' : 100, 'b' : 1000}\n",
    "dictlist = list(fdict.values())"
   ]
  },
  {
   "cell_type": "code",
   "execution_count": 36,
   "metadata": {},
   "outputs": [],
   "source": [
    "# Слияние словарей. Создает новый словарь с объединенными ключами и значениями.\n",
    "# Важно! Значения ключей словаря dict2 имеют приоритет, когда dict1 и dict2 используют одинаковые ключи key.\n",
    "# dict = {**dict1, **dict2}\n",
    "# Новое в Python 3.9:\n",
    "zdict = {1 : 10, 5 : 50}\n",
    "ydict = {7 : 77, 8 : 88}\n",
    "xdict = zdict | ydict"
   ]
  }
 ],
 "metadata": {
  "interpreter": {
   "hash": "aee8b7b246df8f9039afb4144a1f6fd8d2ca17a180786b69acc140d282b71a49"
  },
  "kernelspec": {
   "display_name": "Python 3.10.2 64-bit",
   "language": "python",
   "name": "python3"
  },
  "language_info": {
   "codemirror_mode": {
    "name": "ipython",
    "version": 3
   },
   "file_extension": ".py",
   "mimetype": "text/x-python",
   "name": "python",
   "nbconvert_exporter": "python",
   "pygments_lexer": "ipython3",
   "version": "3.10.2"
  },
  "orig_nbformat": 4
 },
 "nbformat": 4,
 "nbformat_minor": 2
}
