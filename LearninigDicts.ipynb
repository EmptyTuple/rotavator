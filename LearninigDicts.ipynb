{
 "cells": [
  {
   "cell_type": "markdown",
   "metadata": {},
   "source": [
    "Словари в Python - неупорядоченные коллекции произвольных объектов с доступом по ключу. Их иногда ещё называют ассоциативными массивами или хеш-таблицами."
   ]
  },
  {
   "cell_type": "code",
   "execution_count": 9,
   "metadata": {},
   "outputs": [],
   "source": [
    "# Создание словарей\n",
    "dict_1 = {'a': 1, 'b': 2, 'c': 3}\n",
    "dict_2 = dict(a=1, b=2, c=3)\n",
    "dict_3 = dict.fromkeys(['a', 'b', 'c'], 100)\n",
    "# С помощью генератора словаря\n",
    "dict_4 = {a: a**2 for a in range(5)}\n",
    "# Присвоение по новому ключу расширяет словарь, присвоение по существующему ключу перезаписывает его:\n",
    "dict_1['d'] = 4\n",
    "dict_1['a'] = 100\n",
    "# Создание словаря из двух списков.\n",
    "alist = [1, 2, 3, 4, 5, 6]\n",
    "blist = ['a','b','c','d','e','f']\n",
    "abdict = {a: b for a, b in zip(alist, blist)}"
   ]
  },
  {
   "cell_type": "code",
   "execution_count": 35,
   "metadata": {},
   "outputs": [],
   "source": [
    "# Методы словарей.\n",
    "the_dict = {a: a+a for a in range(5)}\n",
    "the_dict1 = {a: a+a for a in range(5)}\n",
    "\n",
    "# dict.clear() - очищает словарь.\n",
    "the_dict.clear()\n",
    "# dict.copy() - возвращает копию словаря.\n",
    "a_dict = the_dict.copy()\n",
    "# dict.get(key[, default]) - возвращает значение ключа, если его нет, не бросает исключение, \n",
    "# а возвращает default (по умолчанию None)\n",
    "x = the_dict1.get(4)\n",
    "y = the_dict1.get(6, 1000)\n",
    "# dict.items() - возвращает пары (ключ, значение).\n",
    "the_dict1.items()\n",
    "# dict.keys() - возвращает ключи в словаре.\n",
    "the_dict1.keys()\n",
    "# dict.pop(key[, default]) - удаляет ключ и возвращает значение. Если ключа нет, \n",
    "# возвращает default (по умолчанию бросает исключение).\n",
    "c = the_dict1.pop(4)\n",
    "d = the_dict1.pop(7, 2000)\n",
    "# dict.popitem() - удаляет и возвращает кортеж (ключ, значение). Пары возвращаются с конца словаря, \n",
    "# в порядке LIFO (последним пришёл - первым ушёл). \n",
    "# Если словарь пуст, бросает исключение KeyError.\n",
    "e = the_dict1.popitem()\n",
    "# dict.setdefault(key[, default]) - возвращает значение, соответствующее ключу, но если его нет, не бросает исключение, \n",
    "# а создает ключ со значением default (по умолчанию None).\n",
    "g = the_dict1.setdefault(2)\n",
    "f = the_dict1.setdefault(10, 3000)\n",
    "# dict.update([other]) - обновляет (изменяет!) словарь, добавляя пары (ключ, значение) из other. \n",
    "# принимает либо другой объект словаря, либо итерируемую последовательность пар ключ/значение \n",
    "# в виде кортежей или других итераций вида (key, value).\n",
    "# Существующие ключи перезаписываются. Возвращает None (не новый словарь!).\n",
    "adict = {1 : 10, 2 : 20, 3 : 30}\n",
    "bdict = {4 : 40, 5 : 50}\n",
    "adict.update(bdict)\n",
    "adict.update([(6, 60), (7, 70)])\n",
    "# новый синтаксис в Python 3.9!\n",
    "edict = {}\n",
    "gdict = {'a' : 'zzz'}\n",
    "edict |= gdict\n",
    "# dict.values() - возвращает значения в словаре.\n",
    "fdict = {'a' : 100, 'b' : 1000}\n",
    "dictlist = list(fdict.values())"
   ]
  },
  {
   "cell_type": "code",
   "execution_count": 36,
   "metadata": {},
   "outputs": [],
   "source": [
    "# Слияние словарей. Создает новый словарь с объединенными ключами и значениями.\n",
    "# Важно! Значения ключей словаря dict2 имеют приоритет, когда dict1 и dict2 используют одинаковые ключи key.\n",
    "zdict = {1 : 10, 5 : 50}\n",
    "ydict = {7 : 77, 8 : 88}\n",
    "zydict = {**zdict, **ydict}\n",
    "xdict = zdict | ydict # Новый синтаксис в Python 3.9"
   ]
  },
  {
   "cell_type": "code",
   "execution_count": 5,
   "metadata": {},
   "outputs": [],
   "source": [
    "# Применение метода dict.fromkeys() для подсчета количества повторений элементов в списке\n",
    "lst = [9, 13, 1, 3, 7, 3, 1, 1, 7, 1, 7, 9, 9, 1, 7, 17, 3, 17, 2, 2, 2, 7]\n",
    "# Создаем ключи для будущего словаря, переводя во множество:\n",
    "keys = set(lst)\n",
    "# Создаем словарь, со значениями \"0\" по умолчанию:\n",
    "ldict = dict.fromkeys(keys, 0)\n",
    "# Циклом перебираем список, счетчиком изменяем значения словаря:\n",
    "for i in lst:\n",
    "    ldict[i] += 1"
   ]
  },
  {
   "cell_type": "code",
   "execution_count": 18,
   "metadata": {},
   "outputs": [],
   "source": [
    "# Применение метода dict.get() для подсчета количества повторений элементов в списке\n",
    "alst = [9, 13, 1, 3, 7, 3, 1, 1, 7, 1, 7, 9, 2, 4, 5, 2]\n",
    "idict = {} #создаем пустой словарь\n",
    "for i in alst:\n",
    "    if idict.get(i, None):\n",
    "        idict[i] += 1\n",
    "    else:\n",
    "        idict[i] = 1\n",
    "# Отсортируем по количеству появлений элементов в списке (от большего к меньшему):\n",
    "idict_sort = dict(sorted(idict.items(), key=lambda i: i[1], reverse=True))"
   ]
  },
  {
   "cell_type": "code",
   "execution_count": 34,
   "metadata": {},
   "outputs": [],
   "source": [
    "# Отбор/фильтрация ключей/значений словаря по условию.\n",
    "somedict = {'a': 1, 'b': 2, 'c': 3, 'd': 4, 'e': 5, 'f' : 8, 'g' : 5, 'h' : 12}\n",
    "# Фильтрация с спользованием выражений генераторов для словарей:\n",
    "    # Фильтр словаря по ключам:\n",
    "key_filtered_dict = {key: value for key, value in somedict.items() if key in ('a', 'b', 'c')}\n",
    "    # Фильтр словаря по значениям (например отберем чётные значения):\n",
    "value_filtered_dict = {key: value for key, value in somedict.items() if value % 2 == 0}\n",
    "    # Одновременная сортировка по ключам/значениям (оператор 'and'):\n",
    "kv_filtered_dict = {key: value for key, value in somedict.items() if key not in ('c', 'd', 'e') and value < 10}\n",
    "\n",
    "# Использование функции filter() для фильтрации словарей:\n",
    "    # Фильтр словаря по ключам:\n",
    "kdict_with_filter = dict(filter(lambda item: item[0] not in ('a', 'b', 'c'), somedict.items()))\n",
    "    # Фильтр словаря по значениям (например отберем нечётные значения):\n",
    "vdict_with_filter = dict(filter(lambda item: item[1] % 2 != 0, somedict.items()))\n",
    "    # Одновременная сортировка по ключам/значениям с использованием функции:\n",
    "    # Функция принимает один аргумент: кортеж представления словаря dict.items - (key, val), \n",
    "    # а возвращает булево значение: если True то filter() пропускает элемент словаря, если False то отбрасывает.\n",
    "def foo(item):\n",
    "    key, value = item # Распаковываем кортеж представления словаря dict.items()\n",
    "    if key in ('a', 'b', 'c', 'f') and value < 5:\n",
    "        return True\n",
    "    return False\n",
    "\n",
    "kv_dict_filter = dict(filter(foo, somedict.items()))"
   ]
  }
 ],
 "metadata": {
  "interpreter": {
   "hash": "aee8b7b246df8f9039afb4144a1f6fd8d2ca17a180786b69acc140d282b71a49"
  },
  "kernelspec": {
   "display_name": "Python 3.10.2 64-bit",
   "language": "python",
   "name": "python3"
  },
  "language_info": {
   "codemirror_mode": {
    "name": "ipython",
    "version": 3
   },
   "file_extension": ".py",
   "mimetype": "text/x-python",
   "name": "python",
   "nbconvert_exporter": "python",
   "pygments_lexer": "ipython3",
   "version": "3.10.2"
  },
  "orig_nbformat": 4
 },
 "nbformat": 4,
 "nbformat_minor": 2
}
