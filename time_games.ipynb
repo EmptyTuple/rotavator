{
 "cells": [
  {
   "cell_type": "markdown",
   "metadata": {},
   "source": [
    "## Convert Unix Timestamp to datetime in Python\n",
    "\n",
    "First, we have to import the datetime module to Python and create an exemple of a data object containing a Unix timestamp:"
   ]
  },
  {
   "cell_type": "code",
   "execution_count": 1,
   "metadata": {},
   "outputs": [],
   "source": [
    "import datetime\n",
    "\n",
    "the_timestamp = 1634541283"
   ]
  },
  {
   "cell_type": "markdown",
   "metadata": {},
   "source": [
    "### Convert Unix Timestamp to datetime object using fromtimestamp() function"
   ]
  },
  {
   "cell_type": "code",
   "execution_count": 3,
   "metadata": {},
   "outputs": [
    {
     "name": "stdout",
     "output_type": "stream",
     "text": [
      "2021-10-18 14:14:43\n"
     ]
    }
   ],
   "source": [
    "the_datetime = datetime.datetime.fromtimestamp(the_timestamp)\n",
    "print(the_datetime)"
   ]
  },
  {
   "cell_type": "markdown",
   "metadata": {},
   "source": [
    "### Convert datetime object to Unix Timestamp using timestamp() function.\n",
    "\n",
    "Round to integer if there is a need to."
   ]
  },
  {
   "cell_type": "code",
   "execution_count": 2,
   "metadata": {},
   "outputs": [
    {
     "name": "stdout",
     "output_type": "stream",
     "text": [
      "1648273618.048403\n"
     ]
    }
   ],
   "source": [
    "import datetime\n",
    "\n",
    "cur = datetime.datetime.today()\n",
    "timestamp = datetime.datetime.timestamp(cur)\n",
    "\n",
    "print(timestamp)"
   ]
  },
  {
   "cell_type": "markdown",
   "metadata": {},
   "source": [
    "### Convert datetime object to string using strptime() function and back using strftime() function\n",
    "\n",
    "The keys are here:\n",
    "<https://strftime.org>"
   ]
  },
  {
   "cell_type": "code",
   "execution_count": null,
   "metadata": {},
   "outputs": [],
   "source": [
    "\n",
    "from datetime import datetime # faster print!\n",
    "\n",
    "date1 = '8 June 1985'\n",
    "date2 = '10/12/2001'\n",
    "date3 = '05.26.1971 12:23:45'\n",
    "\n",
    "date1_obj = datetime.strptime(date1, '%d %B %Y')\n",
    "date2_obj = datetime.strptime(date2, '%d/%m/%Y')\n",
    "date3_obj = datetime.strptime(date3, '%m.%d.%Y %H:%M:%S')\n",
    "print(type(date1_obj))\n",
    "\n",
    "date1_str = datetime.strftime(date3_obj, '%d %B %Y %H:%M')\n",
    "data_now = datetime.now()\n",
    "now_str = datetime.strftime(datetime.now(), '%d/%B/%Y %H:%M')\n",
    "\n",
    "print(date1_obj)             # >>>1985-06-08 00:00:00\n",
    "print(date2_obj)             # >>>2001-12-10 00:00:00\n",
    "print(date3_obj)             # >>>1971-05-26 12:23:45\n",
    "print('----------------')\n",
    "print(date1_str)             # >>>26 May 1971 12:23\n",
    "print(now_str)               # >>>26/March/2022 01:01"
   ]
  },
  {
   "cell_type": "markdown",
   "metadata": {},
   "source": [
    "### A few more exemples of using"
   ]
  },
  {
   "cell_type": "code",
   "execution_count": 19,
   "metadata": {},
   "outputs": [
    {
     "name": "stdout",
     "output_type": "stream",
     "text": [
      "2022-03-26\n"
     ]
    }
   ],
   "source": [
    "import datetime\n",
    "from datetime import datetime\n",
    "from datetime import date\n",
    "from datetime import time\n",
    "\n",
    "print(date.today()) # Current date\n"
   ]
  }
 ],
 "metadata": {
  "interpreter": {
   "hash": "aee8b7b246df8f9039afb4144a1f6fd8d2ca17a180786b69acc140d282b71a49"
  },
  "kernelspec": {
   "display_name": "Python 3.10.2 64-bit",
   "language": "python",
   "name": "python3"
  },
  "language_info": {
   "codemirror_mode": {
    "name": "ipython",
    "version": 3
   },
   "file_extension": ".py",
   "mimetype": "text/x-python",
   "name": "python",
   "nbconvert_exporter": "python",
   "pygments_lexer": "ipython3",
   "version": "3.10.2"
  },
  "orig_nbformat": 4
 },
 "nbformat": 4,
 "nbformat_minor": 2
}
