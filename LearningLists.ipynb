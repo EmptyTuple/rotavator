{
 "cells": [
  {
   "cell_type": "markdown",
   "metadata": {},
   "source": [
    "Список - изменяемая последовательность, которую можно записать в виде списка значений (элементов), разделенных запятыми, в квадратных скобках. Списки могут содержать элементы разных типов, но обычно все элементы имеют одинаковый тип.\n",
    "В Python списки представлены встроенным классом list(), его можно использовать для преобразования итерируемых объектов в тип list."
   ]
  },
  {
   "cell_type": "code",
   "execution_count": 6,
   "metadata": {},
   "outputs": [],
   "source": [
    "alist = [1, 2, 3, 4, 5, 6, 7, 8]\n",
    "# Все операции срезов списков возвращают новый список, содержащий запрошенные элементы. \n",
    "# При этом создается поверхностная копия списка.\n",
    "# Разница между поверхностным и глубоким копированием существенна только для составных объектов, содержащих изменяемые\n",
    "#  объекты (например, список списков, или словарь, в качестве значений которого - списки или словари)!\n",
    "cutted_list = alist[-5:]\n",
    "# Копирование списка срезом:\n",
    "alist_copy = alist[:]\n",
    "# Разворот списка срезом:\n",
    "alist_rev = alist[::-1]\n",
    "# С помощью срезов можно заменить групу значений, либо удалить ее или полностью очистить список:\n",
    "blist = [1, 2, 3, 4, 5]\n",
    "blist[1:3] = [20, 30]\n",
    "blist[4:5] = []\n",
    "# Списки поддерживают конкатенацию:\n",
    "lst1 = [1, 2, 3]\n",
    "lst2 = [4, 5, 6]\n",
    "lst3 = lst1 + lst2"
   ]
  },
  {
   "cell_type": "code",
   "execution_count": 15,
   "metadata": {},
   "outputs": [
    {
     "data": {
      "text/plain": [
       "['a', 'b', 'c', 'd', 'e', 'x', 'y', 'z']"
      ]
     },
     "execution_count": 15,
     "metadata": {},
     "output_type": "execute_result"
    }
   ],
   "source": [
    "# Методы списков\n",
    "\n",
    "# list.append() - метод производит добавление элемента в конец последовательности.\n",
    "wlist = [1, 2, 3, 4, 5]\n",
    "wlist.append(100)\n",
    "# Альтернативный способ - конкатенация:\n",
    "wlist += [200]\n",
    "\n",
    "# list.extend(iterable) - iterable - любой объект, поддерживающий итерацию (например строка)\n",
    "# В конец последовательности добавляются элементы iterable.\n",
    "zlist = ['a', 'b', 'c']\n",
    "zlist.extend(['d', 'e'])\n",
    "zlist.extend('xyz')\n",
    "\n"
   ]
  }
 ],
 "metadata": {
  "interpreter": {
   "hash": "aee8b7b246df8f9039afb4144a1f6fd8d2ca17a180786b69acc140d282b71a49"
  },
  "kernelspec": {
   "display_name": "Python 3.10.2 64-bit",
   "language": "python",
   "name": "python3"
  },
  "language_info": {
   "codemirror_mode": {
    "name": "ipython",
    "version": 3
   },
   "file_extension": ".py",
   "mimetype": "text/x-python",
   "name": "python",
   "nbconvert_exporter": "python",
   "pygments_lexer": "ipython3",
   "version": "3.10.2"
  },
  "orig_nbformat": 4
 },
 "nbformat": 4,
 "nbformat_minor": 2
}
