{
 "cells": [
  {
   "cell_type": "code",
   "execution_count": 1,
   "metadata": {},
   "outputs": [
    {
     "name": "stdout",
     "output_type": "stream",
     "text": [
      "Abracadabra\n"
     ]
    }
   ],
   "source": [
    "class Person:\n",
    "    def say_it(self, message):\n",
    "        print(message)\n",
    "\n",
    "bob = Person()\n",
    "bob.say_it('Abracadabra')"
   ]
  },
  {
   "cell_type": "code",
   "execution_count": 2,
   "metadata": {},
   "outputs": [
    {
     "name": "stdout",
     "output_type": "stream",
     "text": [
      "Создание объекта Person\n",
      "Hello\n"
     ]
    }
   ],
   "source": [
    "class Person:\n",
    "    # конструктор\n",
    "    def __init__(self):\n",
    "        print(\"Создание объекта Person\")\n",
    " \n",
    "    def say_hello(self):\n",
    "        print(\"Hello\")\n",
    "         \n",
    "         \n",
    "tom = Person()      # Создание объекта Person\n",
    "tom.say_hello()     # Hello"
   ]
  },
  {
   "cell_type": "code",
   "execution_count": 21,
   "metadata": {},
   "outputs": [
    {
     "data": {
      "text/plain": [
       "'male'"
      ]
     },
     "execution_count": 21,
     "metadata": {},
     "output_type": "execute_result"
    }
   ],
   "source": [
    "# Атрибуты класса\n",
    "# Любые переменные, создаваемые внутри класса, являются атрибутами класса.\n",
    "\n",
    "class Human:\n",
    "    name = 'Tom'\n",
    "    age = 50\n",
    "\n",
    "# К аттрибутам класса можно обращаться через \".\":\n",
    "\n",
    "Human.name  # >>>'Tom'\n",
    "Human.age   # >>>50\n",
    "\n",
    "# Чтобы посмотреть все артибуты класса, используем магический способ __dict__\n",
    "\n",
    "Human.__dict__\n",
    "\n",
    "# Также обратится к аттрибуту можно с помощью getattr\n",
    "\n",
    "getattr(Human, 'name')   # >>>'Tom'\n",
    "\n",
    "# С помощью третьего аргумента getattr можно избежать ошибки если атрибута к которому обращаемся нет, вернется значение по умолчанию:\n",
    "\n",
    "getattr(Human, 'sex', 'Not defined') # >>>'Not defined'\n",
    "\n",
    "# Изменение значения атрибута - обращаемся к атрибуту и присваеваем ему новое значение:\n",
    "\n",
    "Human.age = 55\n",
    "Human.age        # >>>55\n",
    "\n",
    "# Также можно задавать новые атрибуты класса и присваивать им значения:\n",
    "\n",
    "Human.sex = 'male'\n",
    "Human.sex           # >>>'male'\n",
    "\n",
    "# Изменять значение а также создавать новые атрибуты и присваивать им значения можно с помощью функции setattr:\n",
    "\n",
    "setattr(Human, 'hight', 185)\n",
    "Human.hight                # >>>185\n",
    "\n",
    "setattr(Human, 'sex', 'female')\n",
    "Human.sex                  # >>>'female'\n",
    "\n",
    "# Удаление атрибутов класса\n",
    "\n",
    "del Human.sex     # Атрибут sex удален из класса\n",
    "Human.__dict__\n",
    "\n",
    "# Также удалить атрибут класса можно с помощью функции delattr:\n",
    "\n",
    "delattr(Human, 'hight')\n",
    "Human.__dict__\n",
    "\n",
    "# Как значение атрибутов класса сказывается на экземплярах класса:\n",
    "\n",
    "man = Human()\n",
    "\n",
    "# Теперь если мы добавим, изменим или удалим атрибут в классе, то он будет добавлен, изменен или удален в экземплярах класса:\n",
    "\n",
    "Human.sex = 'male'\n",
    "man.sex     # >>>'male'\n",
    "\n",
    "# Но если мы добавим атрибут только в экземпляр класса, то он будет принадлежать только этому экземпляру!"
   ]
  },
  {
   "cell_type": "code",
   "execution_count": 28,
   "metadata": {},
   "outputs": [
    {
     "data": {
      "text/plain": [
       "2.0"
      ]
     },
     "execution_count": 28,
     "metadata": {},
     "output_type": "execute_result"
    }
   ],
   "source": [
    "# Атрибуты экзямпляра класса\n",
    "\n",
    "class Car:\n",
    "    model = 'BMW'\n",
    "    engine = 2.0\n",
    "\n",
    "# Результатом вызова класса является экземпляр класса, который можно присвоить перемееной\n",
    "\n",
    "car1 = Car()\n",
    "# У экземпяра класса тоже можно посмотреть атрибуты с помощью dict. Список будет пустым потому что у экземпляра нет собственных атрибутов:\n",
    "car1.__dict__  # >>>{}\n",
    "\n",
    "# Зададим новый атрибут экземпляру класса:\n",
    "car1.seat = 4\n",
    "car1.__dict__     # >>>{'seat': 4} У экземпляра класса появился собственный атрибут, но его не будет в самом классе и других экземплярах класса\n",
    "\n",
    "# Также можно менять значения атрибутор экземпляра класса, изменения будут делаться только для этого экземпляра:\n",
    "car1.engine = 2.5\n",
    "car1.engine        # >>>2.5\n",
    "\n",
    "# Таким образом экземпляр может иметь собственные атрибуты и собственные значения атрибутор класса, если собственных атрибутов или значений нет,\n",
    "# то атрибуты и их значения берутся из класса. Если удалить собственные значения, то значения будут браться из класса:\n",
    "del car1.engine\n",
    "car1.engine        # >>>2.0"
   ]
  },
  {
   "cell_type": "code",
   "execution_count": 8,
   "metadata": {},
   "outputs": [
    {
     "name": "stdout",
     "output_type": "stream",
     "text": [
      "GO!\n"
     ]
    },
    {
     "data": {
      "text/plain": [
       "'BMW'"
      ]
     },
     "execution_count": 8,
     "metadata": {},
     "output_type": "execute_result"
    }
   ],
   "source": [
    "class Car:\n",
    "    model = 'Audi'\n",
    "    engine = 2.0\n",
    "    \n",
    "    @staticmethod\n",
    "    def drive():\n",
    "        print ('GO!')\n",
    "\n",
    "a1 = Car()\n",
    "a1.__dict__\n",
    "a1.drive()\n",
    "\n",
    "Car.model = 'BMW'\n",
    "Car.model\n",
    "\n"
   ]
  }
 ],
 "metadata": {
  "interpreter": {
   "hash": "aee8b7b246df8f9039afb4144a1f6fd8d2ca17a180786b69acc140d282b71a49"
  },
  "kernelspec": {
   "display_name": "Python 3.10.2 64-bit",
   "language": "python",
   "name": "python3"
  },
  "language_info": {
   "codemirror_mode": {
    "name": "ipython",
    "version": 3
   },
   "file_extension": ".py",
   "mimetype": "text/x-python",
   "name": "python",
   "nbconvert_exporter": "python",
   "pygments_lexer": "ipython3",
   "version": "3.10.2"
  },
  "orig_nbformat": 4
 },
 "nbformat": 4,
 "nbformat_minor": 2
}
