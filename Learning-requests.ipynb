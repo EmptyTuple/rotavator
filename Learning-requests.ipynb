{
 "cells": [
  {
   "cell_type": "markdown",
   "metadata": {},
   "source": [
    "## Requests в Python\n",
    "\n",
    "Библиотека requests является стандартом де-факто для реализации отправки HTTP-запросов в Python. \n",
    "\n",
    "В целом процесс: клиент (например браузер или скрипт Python, использующий библиотеку requests) отправляет данные на URL, а сервер с этим URL считывает данные, решает, что с ними делать, и отправляет клиенту ответ. После этого клиент может решить, что делать с полученными в ответе данными.\n",
    "В составе запроса клиент отправляет данные по методу запроса. Наиболее распространенными методами запроса являются GET, POST и PUT. Запросы GET обычно предназначены только для чтения данных без их изменения, а запросы POST и PUT обычно предназначаются для изменения данных на сервере.\n"
   ]
  },
  {
   "cell_type": "markdown",
   "metadata": {},
   "source": [
    "## Метод GET\n",
    "\n",
    "Метод GET предписывает, что вы пытаетесь получить или извлечь некоторые данные из указанного ресурса. Чтобы отправить GET запрос, необходимо вызвать метод requests.get(url)."
   ]
  },
  {
   "cell_type": "code",
   "execution_count": 4,
   "metadata": {},
   "outputs": [],
   "source": [
    "import requests\n",
    "\n",
    "response = requests.get('http://httpbin.org')"
   ]
  },
  {
   "cell_type": "markdown",
   "metadata": {},
   "source": [
    "Такой же запрос делает и браузер для просмотра этой страницы. Отличие в том, что библиотека requests не может выполнить рендеринг кода HTML, поэтому мы получим просто код HTML и другую информацию, содержащуюся в ответе."
   ]
  },
  {
   "cell_type": "markdown",
   "metadata": {},
   "source": [
    "## Коды состояния\n",
    "\n",
    "Коты о кодах: <https://http.cat>\n",
    "\n",
    "* 1XX — информационный сообщения, например: 102 Processing — запрос принят, но на его обработку понадобится длительное время. \n",
    "* 2XX — информируют о случаях успешного принятия и обработки запроса клиента\n",
    "* 3XX — сообщают клиенту, что для успешного выполнения операции необходимо сделать другой запрос, как правило, по другому URI\n",
    "* 4XX — ошибка на стороне клиента\n",
    "* 5XX — ошибка на стороне сервера\n",
    "\n",
    "Обычно при выполнении запросов мы хотим получить коды состояния в диапазоне 200.\n",
    "\n",
    "Библиотека requests понимает, что коды состояния 4XX и 5XX сигнализируют об ошибках, и поэтому при возврате этих кодов состояния объекту ответа на запрос присваивается значение False. Также вместо условия if можно генерировать исключение специального типа HTTPError, если запрос был неудачен. Сделать это можно используя метод **.raise_for_status()**"
   ]
  },
  {
   "cell_type": "code",
   "execution_count": 5,
   "metadata": {},
   "outputs": [
    {
     "name": "stdout",
     "output_type": "stream",
     "text": [
      "OK\n"
     ]
    }
   ],
   "source": [
    "if response:\n",
    "    print ('OK')\n",
    "else:\n",
    "    print('Wrong')"
   ]
  },
  {
   "cell_type": "markdown",
   "metadata": {},
   "source": [
    "Посмотреть статус код:"
   ]
  },
  {
   "cell_type": "code",
   "execution_count": 6,
   "metadata": {},
   "outputs": [
    {
     "name": "stdout",
     "output_type": "stream",
     "text": [
      "200\n"
     ]
    }
   ],
   "source": [
    "print(response.status_code)  # >>> 200"
   ]
  },
  {
   "cell_type": "markdown",
   "metadata": {},
   "source": [
    "## headers\n",
    "\n",
    "Заголовки ответа сервера могут дать много полезной информации, например, тип содержимого ответа, ограничение по времени, в течение которого ответ будет кэшироваться и т.д. Чтобы просмотреть содержимое заголовков, необходимо обратиться к свойству объекта Response.headers\n",
    "\n",
    "Заголовки отправляются вместе с запросом и возвращаются с ответом. Заголовки используются для того, чтобы клиент и сервер понимали, как интерпретировать данные, отправляемые и получаемые в запросе и ответе.\n",
    "\n",
    "Заголовок **content type** показывает формат данных, например HTML, JSON, PDF, обычный текст и т.д.\n",
    "При обращении к свойству Response.headers будет возвращен схожий со словарем объект, позволяющий получить доступ к значениям заголовков полученного ответа по ключу. Например, чтобы определить тип полезного содержимого ответа, получаем доступ к значению заголовка Content-Type:\n",
    "\n",
    "*Спецификация HTTP определяет названия заголовков без учета регистра! Можно обращаться к заголовкам без учета регистра.*\n",
    "\n",
    "Посмотреть заголовки (словарь):"
   ]
  },
  {
   "cell_type": "code",
   "execution_count": 20,
   "metadata": {},
   "outputs": [
    {
     "name": "stdout",
     "output_type": "stream",
     "text": [
      "{'Date': 'Fri, 25 Mar 2022 10:22:27 GMT', 'Content-Type': 'text/html; charset=utf-8', 'Content-Length': '9593', 'Connection': 'keep-alive', 'Server': 'gunicorn/19.9.0', 'Access-Control-Allow-Origin': '*', 'Access-Control-Allow-Credentials': 'true'}\n",
      "text/html; charset=utf-8\n"
     ]
    }
   ],
   "source": [
    "print(response.headers)\n",
    "print(response.headers['Content-Type'])"
   ]
  },
  {
   "cell_type": "markdown",
   "metadata": {},
   "source": [
    "## .text & .content & .json() \n",
    "\n",
    "Ответ на успешный запрос GET часто содержит в сообщении полезное содержимое (payload). Используя атрибуты и методы объекта Response, мы можем просматривать его в различных форматах.\n",
    "\n",
    "* Атрибут .text возвращает cодержание/контент ответа сервера в юникоде, например для html-страницы, можно увидеть код html.\n",
    "* Атрибут .content возвращает содержание ответа сервера, представленное в байтах (бинарный вид)."
   ]
  },
  {
   "cell_type": "code",
   "execution_count": null,
   "metadata": {},
   "outputs": [],
   "source": [
    "print(response.text)\n",
    "print(response.content)"
   ]
  },
  {
   "cell_type": "markdown",
   "metadata": {},
   "source": [
    "Содержимое ответа также может представлять собой сериализованную строку в формате JSON. Поэтому для того, чтобы в результате получить словарь, можно взять строку str, полученную из свойства Response.text, и десериализовать ее с помощью метода json.loads(). Однако более простой способ выполнить эту задачу — использовать метод нашего объекта Response.json()"
   ]
  },
  {
   "cell_type": "code",
   "execution_count": null,
   "metadata": {},
   "outputs": [],
   "source": [
    "response.json()"
   ]
  },
  {
   "cell_type": "markdown",
   "metadata": {},
   "source": [
    "## Query String Parameters - параметры строки запроса\n",
    "\n",
    "GET запрос не имеет тела сообщения. Но, это не означает, что с его помощью нельзя передать серверу никакую информацию. Это можно делать с помощью GET параметров. Чтобы добавить GET параметры к запросу, нужно в конце URL-адреса поставить знак ? и задавать их после него по следующему правилу: \n",
    "\n",
    "**имя_параметра1=значение_параметра1&имя_параметра2=значение_параметра2.** Разделителем между параметрами служит знак &.\n",
    "\n",
    "Для передачи GET параметров запроса необходимо передать нужную информацию в именованный параметр params метода .get()"
   ]
  },
  {
   "cell_type": "code",
   "execution_count": null,
   "metadata": {},
   "outputs": [],
   "source": [
    "import requests\n",
    "# Поиск requests в репозиториях GitHub\n",
    "response = requests.get(\n",
    "    'https://api.github.com/search/repositories',\n",
    "    params={'q': 'requests+language:python'},\n",
    ")\n",
    "# Просматриваем значения атрибутов результатов поиска репозитория requests\n",
    "json_response = response.json()\n",
    "repository = json_response['items'][0]\n",
    "print(f'Repository name: {repository[\"name\"]}')  # Python 3.6+\n",
    "print(f'Repository description: {repository[\"description\"]}')  # Python 3.6+\n"
   ]
  },
  {
   "cell_type": "markdown",
   "metadata": {},
   "source": [
    "Можно передавать значения в params метода get() не только в виде словаря, но и в виде списка кортежей или бинарном виде:"
   ]
  },
  {
   "cell_type": "code",
   "execution_count": 22,
   "metadata": {},
   "outputs": [],
   "source": [
    "params=[('q', 'requests+language:python'), ('p', 'some value')]\n",
    "params=b'q=requests+language:python'"
   ]
  }
 ],
 "metadata": {
  "interpreter": {
   "hash": "aee8b7b246df8f9039afb4144a1f6fd8d2ca17a180786b69acc140d282b71a49"
  },
  "kernelspec": {
   "display_name": "Python 3.10.2 64-bit",
   "language": "python",
   "name": "python3"
  },
  "language_info": {
   "codemirror_mode": {
    "name": "ipython",
    "version": 3
   },
   "file_extension": ".py",
   "mimetype": "text/x-python",
   "name": "python",
   "nbconvert_exporter": "python",
   "pygments_lexer": "ipython3",
   "version": "3.10.2"
  },
  "orig_nbformat": 4
 },
 "nbformat": 4,
 "nbformat_minor": 2
}
